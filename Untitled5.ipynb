{
  "nbformat": 4,
  "nbformat_minor": 0,
  "metadata": {
    "colab": {
      "provenance": [],
      "authorship_tag": "ABX9TyN0W0caoTTRLXFVge4dWweX",
      "include_colab_link": true
    },
    "kernelspec": {
      "name": "python3",
      "display_name": "Python 3"
    },
    "language_info": {
      "name": "python"
    }
  },
  "cells": [
    {
      "cell_type": "markdown",
      "metadata": {
        "id": "view-in-github",
        "colab_type": "text"
      },
      "source": [
        "<a href=\"https://colab.research.google.com/github/CARLOS240293/CALCULADORA-IMC-1/blob/main/Untitled5.ipynb\" target=\"_parent\"><img src=\"https://colab.research.google.com/assets/colab-badge.svg\" alt=\"Open In Colab\"/></a>"
      ]
    },
    {
      "cell_type": "code",
      "execution_count": null,
      "metadata": {
        "id": "suHmBst1WiOc"
      },
      "outputs": [],
      "source": [
        "# prompt: #PROGRAMA QUE IDENTIFICA EL CUADRANTE EN EL QUE SE ENCUENTRA EL PUNTO\n",
        "\n",
        "def obtener_coordenada(nombre_coordenada):\n",
        "  \"\"\"Solicita al usuario una coordenada y verifica que no sea cero.\"\"\"\n",
        "  while True:\n",
        "    try:\n",
        "      coordenada = int(input(f\"Ingrese la coordenada {nombre_coordenada}: \"))\n",
        "      if coordenada == 0:\n",
        "        print(\"Error: La coordenada no puede ser cero. Intente nuevamente.\")\n",
        "      else:\n",
        "        return coordenada\n",
        "    except ValueError:\n",
        "      print(\"Error: Ingrese un número entero válido.\")\n",
        "\n",
        "def identificar_cuadrante(x, y):\n",
        "  \"\"\"Identifica el cuadrante en el que se encuentra el punto (x, y).\"\"\"\n",
        "  if x > 0 and y > 0:\n",
        "    return \"Cuadrante I\"\n",
        "  elif x < 0 and y > 0:\n",
        "    return \"Cuadrante II\"\n",
        "  elif x < 0 and y < 0:\n",
        "    return \"Cuadrante III\"\n",
        "  elif x > 0 and y < 0:\n",
        "    return \"Cuadrante IV\"\n",
        "\n",
        "# Obtener coordenadas del usuario\n",
        "x = obtener_coordenada(\"X\")\n",
        "y = obtener_coordenada(\"Y\")\n",
        "\n",
        "# Identificar el cuadrante\n",
        "cuadrante = identificar_cuadrante(x, y)\n",
        "print(f\"El punto ({x}, {y}) se encuentra en el {cuadrante}\")"
      ]
    }
  ]
}